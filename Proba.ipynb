{
 "cells": [
  {
   "cell_type": "code",
   "execution_count": null,
   "id": "2bbb2b96",
   "metadata": {},
   "outputs": [
    {
     "name": "stdout",
     "output_type": "stream",
     "text": [
      "Hello, World!\n",
      "Hello, World opet!\n"
     ]
    }
   ],
   "source": [
    "print(\"Hello, World!\")\n",
    "# This script prints a greeting message to the console.\n",
    "\n",
    "print(\"Hello, World opet!\")\n",
    "\n",
    "print(\"Hello, World again!\")\n",
    "\n",
    "print(\"Hello, World i opet!\")\n",
    "\n",
    "print(\"Hello, World i original!\")\n",
    "print(\"Hello, World i Test!\")\n"
   ]
  }
 ],
 "metadata": {
  "kernelspec": {
   "display_name": "Python 3",
   "language": "python",
   "name": "python3"
  },
  "language_info": {
   "codemirror_mode": {
    "name": "ipython",
    "version": 3
   },
   "file_extension": ".py",
   "mimetype": "text/x-python",
   "name": "python",
   "nbconvert_exporter": "python",
   "pygments_lexer": "ipython3",
   "version": "3.13.2"
  }
 },
 "nbformat": 4,
 "nbformat_minor": 5
}
